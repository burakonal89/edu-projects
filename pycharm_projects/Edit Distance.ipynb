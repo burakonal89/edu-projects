{
 "cells": [
  {
   "cell_type": "code",
   "execution_count": 1,
   "metadata": {
    "collapsed": true
   },
   "outputs": [],
   "source": [
    "import numpy as np"
   ]
  },
  {
   "cell_type": "markdown",
   "metadata": {},
   "source": [
    "### Approximate Matching"
   ]
  },
  {
   "cell_type": "code",
   "execution_count": 2,
   "metadata": {
    "collapsed": false
   },
   "outputs": [],
   "source": [
    "def matrix_edit_distance(x, y):\n",
    "    D = np.zeros((len(x)+1, len(y)+1), dtype=int)\n",
    "    D[:,0] = range(len(x)+1)\n",
    "    for i in range(1, len(x)+1):\n",
    "        for j in range(1, len(y)+1):\n",
    "            delta = 1 if x[i-1] != y[j-1] else 0\n",
    "            D[i, j] = min((D[i-1, j-1] + delta), \n",
    "                          (D[i, j-1] + 1), \n",
    "                          (D[i-1,j] + 1))\n",
    "    return D"
   ]
  },
  {
   "cell_type": "code",
   "execution_count": 3,
   "metadata": {
    "collapsed": false
   },
   "outputs": [
    {
     "name": "stdout",
     "output_type": "stream",
     "text": [
      "[[0 0 0 0 0 0 0 0 0 0 0 0 0 0 0 0 0]\n",
      " [1 1 1 1 1 0 0 1 1 1 1 1 1 0 0 1 1]\n",
      " [2 2 2 2 2 1 1 0 1 2 2 2 1 1 1 1 2]\n",
      " [3 3 3 3 3 2 1 1 1 2 3 3 2 1 1 2 2]\n",
      " [4 3 4 3 3 3 2 2 1 2 2 3 3 2 2 1 2]\n",
      " [5 4 3 4 4 4 3 3 2 1 2 2 3 3 3 2 2]\n",
      " [6 5 4 3 4 5 4 4 3 2 1 2 3 4 4 3 2]\n",
      " [7 6 5 4 4 4 5 5 4 3 2 2 3 3 4 4 3]\n",
      " [8 7 6 5 5 5 5 5 5 4 3 3 2 3 4 5 4]]\n"
     ]
    }
   ],
   "source": [
    "x = 'GCGTATGC'\n",
    "y = 'TATTGGCTATACGGTT'\n",
    "D = matrix_edit_distance(x, y)\n",
    "print D"
   ]
  },
  {
   "cell_type": "code",
   "execution_count": 10,
   "metadata": {
    "collapsed": true
   },
   "outputs": [],
   "source": [
    "def trace_back(x, y, D):\n",
    "    align_x = list()\n",
    "    align_y = list()\n",
    "    i = len(x)\n",
    "    min_ = min(D[i,:])\n",
    "    j = np.argmin(D[i,:], axis=0)\n",
    "    align_x = list()\n",
    "    align_y = list()\n",
    "    while i > 0:\n",
    "        diagonal = D[i-1, j-1]\n",
    "        vertical = D[i-1, j]\n",
    "        horizontal = D[i, j-1]\n",
    "        min_ = min(diagonal, vertical, horizontal)\n",
    "        if min_ == diagonal:\n",
    "            align_x.append(x[i-1])\n",
    "            align_y.append(y[j-1])\n",
    "            i -= 1\n",
    "            j -= 1\n",
    "        elif min_ == vertical:\n",
    "            align_x.append('-')\n",
    "            align_y.append(y[j-1])\n",
    "            j -= 1\n",
    "        elif min_ == horizontal:\n",
    "            align_y.append('-')\n",
    "            align_x.append(x[i-1])\n",
    "            i -= 1\n",
    "    return ''.join(align_x)[::-1], ''.join(align_y)[::-1]\n",
    "    "
   ]
  },
  {
   "cell_type": "code",
   "execution_count": 11,
   "metadata": {
    "collapsed": false
   },
   "outputs": [],
   "source": [
    "align_x, align_y = trace_back(x, y, D)"
   ]
  },
  {
   "cell_type": "code",
   "execution_count": 12,
   "metadata": {
    "collapsed": false
   },
   "outputs": [
    {
     "data": {
      "text/plain": [
       "'GC-G-TATGC'"
      ]
     },
     "execution_count": 12,
     "metadata": {},
     "output_type": "execute_result"
    }
   ],
   "source": [
    "align_x"
   ]
  },
  {
   "cell_type": "code",
   "execution_count": 13,
   "metadata": {
    "collapsed": false
   },
   "outputs": [
    {
     "data": {
      "text/plain": [
       "'TTGGCTATAC'"
      ]
     },
     "execution_count": 13,
     "metadata": {},
     "output_type": "execute_result"
    }
   ],
   "source": [
    "align_y"
   ]
  },
  {
   "cell_type": "code",
   "execution_count": null,
   "metadata": {
    "collapsed": true
   },
   "outputs": [],
   "source": []
  }
 ],
 "metadata": {
  "kernelspec": {
   "display_name": "Python 2",
   "language": "python",
   "name": "python2"
  },
  "language_info": {
   "codemirror_mode": {
    "name": "ipython",
    "version": 2
   },
   "file_extension": ".py",
   "mimetype": "text/x-python",
   "name": "python",
   "nbconvert_exporter": "python",
   "pygments_lexer": "ipython2",
   "version": "2.7.13"
  }
 },
 "nbformat": 4,
 "nbformat_minor": 2
}
