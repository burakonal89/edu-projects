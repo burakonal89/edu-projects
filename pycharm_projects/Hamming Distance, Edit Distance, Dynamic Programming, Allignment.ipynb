{
 "cells": [
  {
   "cell_type": "markdown",
   "metadata": {},
   "source": [
    "### Hamming Distance, Edit Distance, Dynamic Programming and Allignments"
   ]
  },
  {
   "cell_type": "code",
   "execution_count": 6,
   "metadata": {
    "collapsed": true
   },
   "outputs": [],
   "source": [
    "import numpy as np"
   ]
  },
  {
   "cell_type": "code",
   "execution_count": 7,
   "metadata": {
    "collapsed": true
   },
   "outputs": [],
   "source": [
    "def hammingDistance(x, y):\n",
    "    assert len(x) == len(y)\n",
    "    hm = 0\n",
    "    for i in range(len(x)):\n",
    "        if x[i] != y[i]:\n",
    "            hm += 1\n",
    "    return hm"
   ]
  },
  {
   "cell_type": "code",
   "execution_count": 8,
   "metadata": {
    "collapsed": false
   },
   "outputs": [
    {
     "name": "stdout",
     "output_type": "stream",
     "text": [
      "3\n"
     ]
    }
   ],
   "source": [
    "x = 'aaa'\n",
    "y = 'bbb'\n",
    "print hammingDistance(x,y)\n"
   ]
  },
  {
   "cell_type": "code",
   "execution_count": 9,
   "metadata": {
    "collapsed": true
   },
   "outputs": [],
   "source": [
    "def editDistance_recursive(x, y):\n",
    "    if len(x) == 0:\n",
    "        return len(y)\n",
    "    if len(y) == 0:\n",
    "        return len(x)\n",
    "    delta = 1\n",
    "    if x[-1] == y[-1]:\n",
    "        delta = 0\n",
    "    diagonal = editDistance_recursive(x[:-1], y[:-1]) + delta\n",
    "    vertical = editDistance_recursive(x[:-1], y) + delta\n",
    "    horizontal = editDistance_recursive(x, y[:-1]) + delta\n",
    "    return min(diagonal, vertical, horizontal)"
   ]
  },
  {
   "cell_type": "code",
   "execution_count": 10,
   "metadata": {
    "collapsed": false
   },
   "outputs": [
    {
     "name": "stdout",
     "output_type": "stream",
     "text": [
      "CPU times: user 26.4 s, sys: 281 ms, total: 26.6 s\n",
      "Wall time: 27.8 s\n"
     ]
    },
    {
     "data": {
      "text/plain": [
       "3"
      ]
     },
     "execution_count": 10,
     "metadata": {},
     "output_type": "execute_result"
    }
   ],
   "source": [
    "%%time \n",
    "editDistance_recursive('Shakespeare', 'shake spear') "
   ]
  },
  {
   "cell_type": "code",
   "execution_count": 19,
   "metadata": {
    "collapsed": true
   },
   "outputs": [],
   "source": [
    "def editDistance_dynamic(x, y):\n",
    "    D = np.zeros((len(x)+1, len(y)+1), dtype=int)\n",
    "    D[0, 0:] = range(0, len(y)+1)\n",
    "    D[0:, 0] = range(0, len(x)+1)\n",
    "    for i in range(1, len(x)+1):\n",
    "        for j in range(1, len(y)+1):\n",
    "            delt = 1 if x[i-1] != y[j-1] else 0\n",
    "            D[i, j] = min(D[i-1, j-1]+delt, D[i-1, j]+1, D[i, j-1]+1)\n",
    "    return D[len(x), len(y)], D"
   ]
  },
  {
   "cell_type": "code",
   "execution_count": 36,
   "metadata": {
    "collapsed": false,
    "scrolled": true
   },
   "outputs": [
    {
     "name": "stdout",
     "output_type": "stream",
     "text": [
      "[[ 0  1  2  3  4  5  6  7  8  9 10 11 12]\n",
      " [ 1  0  1  2  3  4  5  6  7  8  9 10 11]\n",
      " [ 2  1  0  1  2  3  4  5  6  7  8  9 10]\n",
      " [ 3  2  1  1  2  3  3  4  5  6  7  8  9]\n",
      " [ 4  3  2  1  2  2  3  4  5  6  7  8  9]\n",
      " [ 5  4  3  2  1  2  3  4  5  5  6  7  8]\n",
      " [ 6  5  4  3  2  1  2  3  4  5  6  7  8]\n",
      " [ 7  6  5  4  3  2  1  2  3  4  5  6  7]\n",
      " [ 8  7  6  5  4  3  2  1  2  3  4  5  6]\n",
      " [ 9  8  7  6  5  4  3  2  2  2  3  4  5]\n",
      " [10  9  8  7  6  5  4  3  2  3  2  3  4]\n",
      " [11 10  9  8  7  6  5  4  3  3  3  2  3]\n",
      " [12 11 10  9  8  7  6  5  4  4  3  3  2]]\n",
      "2\n",
      "CPU times: user 2.29 ms, sys: 1.22 ms, total: 3.51 ms\n",
      "Wall time: 2.34 ms\n"
     ]
    }
   ],
   "source": [
    "%%time\n",
    "x = 'GCGTATGCACGC'\n",
    "y = 'GCTATGCCACGC'\n",
    "distance, D = editDistance_dynamic(x, y)\n",
    "print D\n",
    "print distance"
   ]
  },
  {
   "cell_type": "code",
   "execution_count": 60,
   "metadata": {
    "collapsed": true
   },
   "outputs": [],
   "source": [
    "def trace_editDistance(x, y, D):\n",
    "    edit_transcript = []\n",
    "    allignment_x = []\n",
    "    i = D.shape[0]-1\n",
    "    j = D.shape[1]-1\n",
    "    while i > 0 and j > 0:\n",
    "        diagonal, vertical, horizontal = D[i-1,j-1], D[i-1, j], D[i, j-1]\n",
    "        minimum = min(diagonal, vertical, horizontal)\n",
    "        if minimum == diagonal:\n",
    "            allignment_x.append(x[i-1])\n",
    "            i = i-1\n",
    "            j = j-1\n",
    "        elif minimum == horizontal:\n",
    "            allignment_x.append('-')\n",
    "            j = j-1\n",
    "        else:\n",
    "            allignment_x.append(x[i-1])\n",
    "            i = i-1\n",
    "    return (''.join(allignment_x))[::-1]"
   ]
  },
  {
   "cell_type": "code",
   "execution_count": 61,
   "metadata": {
    "collapsed": false
   },
   "outputs": [
    {
     "data": {
      "text/plain": [
       "'GCGTATGC-ACGC'"
      ]
     },
     "execution_count": 61,
     "metadata": {},
     "output_type": "execute_result"
    }
   ],
   "source": [
    "trace_editDistance(x, y, D)"
   ]
  },
  {
   "cell_type": "code",
   "execution_count": 13,
   "metadata": {
    "collapsed": true
   },
   "outputs": [],
   "source": [
    "def calculate_penalty(x, y):\n",
    "    # if they are the same, return 0\n",
    "    if x == y:\n",
    "        return 0\n",
    "    # if one of them is empty, return 8\n",
    "    if x == '-' or y == '-':\n",
    "        return 8\n",
    "    min_ = min(x,y)\n",
    "    max_ = max(x,y)\n",
    "    if min_ == \"A\" and max_ == \"G\":\n",
    "        return 2\n",
    "    if min_ == \"C\" and max_ == \"T\":\n",
    "        return 2\n",
    "    return 4    "
   ]
  },
  {
   "cell_type": "code",
   "execution_count": 14,
   "metadata": {
    "collapsed": false
   },
   "outputs": [],
   "source": [
    "def calculate_reward(x, y):\n",
    "    # if they are the same, return 0\n",
    "    if x == y:\n",
    "        return 2\n",
    "    # if one of them is empty, return 8\n",
    "    if x == '-' or y == '-':\n",
    "        return -6\n",
    "    return -4   "
   ]
  },
  {
   "cell_type": "code",
   "execution_count": 15,
   "metadata": {
    "collapsed": false
   },
   "outputs": [],
   "source": [
    "def globalAllignment(x, y):\n",
    "    D = np.zeros((len(x)+1, len(y)+1), dtype=int)\n",
    "    D[0,:] = map((lambda x: x*8), range(0, len(y)+1))\n",
    "    D[:,0] = map((lambda x: x*8), range(0, len(x)+1))\n",
    "    for i in range(1, len(x)+1):\n",
    "        for j in range(1, len(y)+1):\n",
    "            delta = calculate_penalty(x[i-1], y[j-1])\n",
    "            D[i, j] = min(D[i-1, j-1] + calculate_penalty(x[i-1], y[j-1]), \n",
    "                          D[i, j-1] + calculate_penalty(x[i-1], '-'), \n",
    "                          D[i-1, j] + calculate_penalty('-', y[j-1]))\n",
    "    return D, D[-1,-1]"
   ]
  },
  {
   "cell_type": "code",
   "execution_count": 34,
   "metadata": {
    "collapsed": false
   },
   "outputs": [],
   "source": [
    "x = 'GCGTATGCACGC'\n",
    "y = 'GCTATGCCACGC'\n",
    "D, optimal_global_allginment = globalAllignment(x, y)\n"
   ]
  },
  {
   "cell_type": "code",
   "execution_count": 35,
   "metadata": {
    "collapsed": false
   },
   "outputs": [
    {
     "data": {
      "text/plain": [
       "array([[ 0,  8, 16, 24, 32, 40, 48, 56, 64, 72, 80, 88, 96],\n",
       "       [ 8,  0,  8, 16, 24, 32, 40, 48, 56, 64, 72, 80, 88],\n",
       "       [16,  8,  0,  8, 16, 24, 32, 40, 48, 56, 64, 72, 80],\n",
       "       [24, 16,  8,  4, 10, 18, 24, 32, 40, 48, 56, 64, 72],\n",
       "       [32, 24, 16,  8,  8, 10, 18, 26, 34, 42, 50, 58, 66],\n",
       "       [40, 32, 24, 16,  8, 12, 12, 20, 28, 34, 42, 50, 58],\n",
       "       [48, 40, 32, 24, 16,  8, 16, 14, 22, 30, 36, 44, 52],\n",
       "       [56, 48, 40, 32, 24, 16,  8, 16, 18, 24, 32, 36, 44],\n",
       "       [64, 56, 48, 40, 32, 24, 16,  8, 16, 22, 24, 32, 36],\n",
       "       [72, 64, 56, 48, 40, 32, 24, 16, 12, 16, 24, 26, 34],\n",
       "       [80, 72, 64, 56, 48, 40, 32, 24, 16, 16, 16, 24, 26],\n",
       "       [88, 80, 72, 64, 56, 48, 40, 32, 24, 18, 20, 16, 24],\n",
       "       [96, 88, 80, 72, 64, 56, 48, 40, 32, 26, 18, 24, 16]])"
      ]
     },
     "execution_count": 35,
     "metadata": {},
     "output_type": "execute_result"
    }
   ],
   "source": [
    "D"
   ]
  },
  {
   "cell_type": "code",
   "execution_count": null,
   "metadata": {
    "collapsed": true
   },
   "outputs": [],
   "source": [
    "def trace_globalAllignment(x, y, D):\n",
    "    i = D.shape[0]\n",
    "    j = D.shape[1]\n",
    "    while i > 0 and j > 0:\n",
    "        \n",
    "    "
   ]
  },
  {
   "cell_type": "code",
   "execution_count": 17,
   "metadata": {
    "collapsed": true
   },
   "outputs": [],
   "source": [
    "def localAllignment(x, y):\n",
    "    D = np.zeros((len(x)+1, len(y)+1), dtype=int)\n",
    "    D[0,:] = map((lambda x: x*8), range(0, len(y)+1))\n",
    "    D[:,0] = map((lambda x: x*8), range(0, len(x)+1))\n",
    "    for i in range(1, len(x)+1):\n",
    "        for j in range(1, len(y)+1):\n",
    "            delta = calculate_reward(x[i-1], y[j-1])\n",
    "            D[i, j] = max(D[i-1, j-1] + calculate_reward(x[i-1], y[j-1]), \n",
    "                          D[i, j-1] + calculate_reward(x[i-1], '-'), \n",
    "                          D[i-1, j] + calculate_reward('-', y[j-1]))\n",
    "    return D, D[-1,-1]\n",
    "    "
   ]
  },
  {
   "cell_type": "code",
   "execution_count": 18,
   "metadata": {
    "collapsed": false
   },
   "outputs": [
    {
     "data": {
      "text/plain": [
       "(array([[  0,   8,  16,  24,  32,  40,  48,  56,  64,  72,  80,  88,  96,\n",
       "         104, 112],\n",
       "        [  8,   2,  10,  18,  26,  34,  42,  50,  58,  66,  74,  82,  90,\n",
       "          98, 106],\n",
       "        [ 16,  10,   4,  12,  20,  28,  36,  44,  52,  60,  68,  76,  84,\n",
       "          92, 100],\n",
       "        [ 24,  18,  12,   6,  14,  22,  30,  38,  46,  54,  62,  70,  78,\n",
       "          86,  94],\n",
       "        [ 32,  26,  20,  14,   8,  16,  24,  32,  40,  48,  56,  64,  72,\n",
       "          80,  88],\n",
       "        [ 40,  34,  28,  22,  16,  10,  18,  26,  34,  42,  50,  58,  66,\n",
       "          74,  82],\n",
       "        [ 48,  42,  36,  30,  24,  18,  12,  20,  28,  36,  44,  52,  60,\n",
       "          68,  76],\n",
       "        [ 56,  50,  44,  38,  32,  26,  20,  14,  22,  30,  38,  46,  54,\n",
       "          62,  70],\n",
       "        [ 64,  58,  52,  46,  40,  34,  28,  22,  16,  24,  32,  40,  48,\n",
       "          56,  64],\n",
       "        [ 72,  66,  60,  54,  48,  42,  36,  30,  24,  18,  26,  34,  42,\n",
       "          50,  58],\n",
       "        [ 80,  74,  68,  62,  56,  50,  44,  38,  32,  26,  20,  28,  36,\n",
       "          44,  52],\n",
       "        [ 88,  82,  76,  70,  64,  58,  52,  46,  40,  34,  28,  22,  30,\n",
       "          38,  46],\n",
       "        [ 96,  90,  84,  78,  72,  66,  60,  54,  48,  42,  36,  30,  24,\n",
       "          32,  40],\n",
       "        [104,  98,  92,  86,  80,  74,  68,  62,  56,  50,  44,  38,  32,\n",
       "          26,  34],\n",
       "        [112, 106, 100,  94,  88,  82,  76,  70,  64,  58,  52,  46,  40,\n",
       "          34,  28],\n",
       "        [120, 114, 108, 102,  96,  90,  84,  78,  72,  66,  60,  54,  48,\n",
       "          42,  36]]), 36)"
      ]
     },
     "execution_count": 18,
     "metadata": {},
     "output_type": "execute_result"
    }
   ],
   "source": [
    "localAllignment('GGTATGCTGGCGCTA', 'TATATGCGGCGTTT')"
   ]
  },
  {
   "cell_type": "code",
   "execution_count": null,
   "metadata": {
    "collapsed": true
   },
   "outputs": [],
   "source": []
  }
 ],
 "metadata": {
  "kernelspec": {
   "display_name": "Python 2",
   "language": "python",
   "name": "python2"
  },
  "language_info": {
   "codemirror_mode": {
    "name": "ipython",
    "version": 2
   },
   "file_extension": ".py",
   "mimetype": "text/x-python",
   "name": "python",
   "nbconvert_exporter": "python",
   "pygments_lexer": "ipython2",
   "version": "2.7.13"
  }
 },
 "nbformat": 4,
 "nbformat_minor": 2
}
