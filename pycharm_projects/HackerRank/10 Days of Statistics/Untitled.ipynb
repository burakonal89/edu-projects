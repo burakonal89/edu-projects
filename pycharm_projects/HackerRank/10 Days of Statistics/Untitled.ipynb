{
 "cells": [
  {
   "cell_type": "code",
   "execution_count": 157,
   "metadata": {
    "collapsed": false
   },
   "outputs": [],
   "source": [
    "from scipy.stats import norm\n",
    "import math\n",
    "import numpy as np\n",
    "from sklearn import linear_model"
   ]
  },
  {
   "cell_type": "code",
   "execution_count": 90,
   "metadata": {
    "collapsed": false
   },
   "outputs": [
    {
     "name": "stdout",
     "output_type": "stream",
     "text": [
      "10\n",
      "10 9.8 8 7.8 7.7 1.7 6 5 1.4 2 \n",
      "200 44 32 24 22 17 15 12 8 4\n"
     ]
    }
   ],
   "source": [
    "length = int(raw_input())\n",
    "s1 = raw_input()\n",
    "s1 = list(float(x) for x in s1.split())\n",
    "s2 = raw_input()\n",
    "s2 = list(float(x) for x in s2.split())"
   ]
  },
  {
   "cell_type": "code",
   "execution_count": 144,
   "metadata": {
    "collapsed": false
   },
   "outputs": [],
   "source": [
    "def pearson_correlation_coeff(s1, s2):\n",
    "    s1_mean = float(sum(s1))/len(s1)\n",
    "    s2_mean = float(sum(s2))/len(s2)\n",
    "    s1_var = 0\n",
    "    s2_var = 0\n",
    "    corr_coeff = 0\n",
    "    for x, y in zip(s1, s2):\n",
    "        s1_var += x**2\n",
    "        s2_var += y**2\n",
    "        corr_coeff += (x-s1_mean)*(y-s2_mean)\n",
    "    s1_dev = math.sqrt(s1_var/len(s1) - s1_mean**2)\n",
    "    s2_dev = math.sqrt(s2_var/len(s2) - s2_mean**2)\n",
    "    corr_coeff = corr_coeff/(s1_dev*s2_dev*len(s1))\n",
    "    return corr_coeff, s1_dev, s2_dev"
   ]
  },
  {
   "cell_type": "code",
   "execution_count": 85,
   "metadata": {
    "collapsed": false
   },
   "outputs": [
    {
     "data": {
      "text/plain": [
       "([10, 9, 8, 7, 6, 2, 5, 4, 1, 3], [10, 9, 8, 7, 6, 5, 4, 3, 2, 1])"
      ]
     },
     "execution_count": 85,
     "metadata": {},
     "output_type": "execute_result"
    }
   ],
   "source": [
    "s1_sorted = sorted(s1)\n",
    "rank_s1 = [s1_sorted.index(x)+1 for x in s1]\n",
    "s2_sorted = sorted(s2)\n",
    "rank_s2 = [s2_sorted.index(x)+1 for x in s2]\n",
    "rank_s1, rank_s2"
   ]
  },
  {
   "cell_type": "code",
   "execution_count": 96,
   "metadata": {
    "collapsed": false
   },
   "outputs": [
    {
     "data": {
      "text/plain": [
       "1"
      ]
     },
     "execution_count": 96,
     "metadata": {},
     "output_type": "execute_result"
    }
   ],
   "source": [
    "# pearson_correlation_coeff(rank_s1, rank_s2)\n",
    "dummy = 0\n",
    "for x, y in zip(rank_s1, rank_s2):\n",
    "    dummy += (x-y)*(x-y)\n",
    "1 - 6*dummy/(len(s1)*(len(s1)*len(s1)-1))"
   ]
  },
  {
   "cell_type": "code",
   "execution_count": 103,
   "metadata": {
    "collapsed": false
   },
   "outputs": [
    {
     "data": {
      "text/plain": [
       "0"
      ]
     },
     "execution_count": 103,
     "metadata": {},
     "output_type": "execute_result"
    }
   ],
   "source": [
    "6*dummy/(len(s1)*(len(s1)**2-1))"
   ]
  },
  {
   "cell_type": "code",
   "execution_count": 111,
   "metadata": {
    "collapsed": false
   },
   "outputs": [
    {
     "data": {
      "text/plain": [
       "0.9030303030303031"
      ]
     },
     "execution_count": 111,
     "metadata": {},
     "output_type": "execute_result"
    }
   ],
   "source": [
    "1-6*float(dummy)/(len(s1)*(len(s1)**2-1))"
   ]
  },
  {
   "cell_type": "code",
   "execution_count": 154,
   "metadata": {
    "collapsed": false
   },
   "outputs": [],
   "source": [
    "s1 = [95, 85, 80, 70, 60]\n",
    "s2 = [85, 95, 70, 65, 70]\n",
    "s1_mean = float(sum(s1)/len(s1))\n",
    "s2_mean = float(sum(s2)/len(s2))\n",
    "coeff, s1_dev, s2_dev = pearson_correlation_coeff(s1, s2)"
   ]
  },
  {
   "cell_type": "code",
   "execution_count": 155,
   "metadata": {
    "collapsed": true
   },
   "outputs": [],
   "source": [
    "b = coeff*s2_dev/s1_dev\n",
    "a = s2_mean - b*s1_mean"
   ]
  },
  {
   "cell_type": "code",
   "execution_count": 156,
   "metadata": {
    "collapsed": false
   },
   "outputs": [
    {
     "data": {
      "text/plain": [
       "(26.780821917808225, 0.6438356164383561)"
      ]
     },
     "execution_count": 156,
     "metadata": {},
     "output_type": "execute_result"
    }
   ],
   "source": [
    "a, b"
   ]
  },
  {
   "cell_type": "code",
   "execution_count": 149,
   "metadata": {
    "collapsed": false
   },
   "outputs": [
    {
     "data": {
      "text/plain": [
       "3.5"
      ]
     },
     "execution_count": 149,
     "metadata": {},
     "output_type": "execute_result"
    }
   ],
   "source": [
    "s1_mean"
   ]
  },
  {
   "cell_type": "code",
   "execution_count": null,
   "metadata": {
    "collapsed": true
   },
   "outputs": [],
   "source": []
  }
 ],
 "metadata": {
  "kernelspec": {
   "display_name": "Python 2",
   "language": "python",
   "name": "python2"
  },
  "language_info": {
   "codemirror_mode": {
    "name": "ipython",
    "version": 2
   },
   "file_extension": ".py",
   "mimetype": "text/x-python",
   "name": "python",
   "nbconvert_exporter": "python",
   "pygments_lexer": "ipython2",
   "version": "2.7.13"
  }
 },
 "nbformat": 4,
 "nbformat_minor": 2
}
