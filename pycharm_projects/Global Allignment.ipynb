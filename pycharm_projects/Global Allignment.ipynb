{
 "cells": [
  {
   "cell_type": "code",
   "execution_count": 1,
   "metadata": {
    "collapsed": true
   },
   "outputs": [],
   "source": [
    "import numpy as np"
   ]
  },
  {
   "cell_type": "code",
   "execution_count": 2,
   "metadata": {
    "collapsed": true
   },
   "outputs": [],
   "source": [
    "def score_global_allignment(x, y):\n",
    "    # if they are the same, return 0\n",
    "    if x == y:\n",
    "        return 0\n",
    "    # if one of them is empty, return 8\n",
    "    if x == '-' or y == '-':\n",
    "        return 8\n",
    "    min_ = min(x,y)\n",
    "    max_ = max(x,y)\n",
    "    if min_ == \"A\" and max_ == \"G\":\n",
    "        return 2\n",
    "    if min_ == \"C\" and max_ == \"T\":\n",
    "        return 2\n",
    "    return 4"
   ]
  },
  {
   "cell_type": "code",
   "execution_count": 3,
   "metadata": {
    "collapsed": true
   },
   "outputs": [],
   "source": [
    "def matrix_global_allignment(x, y):\n",
    "    D = np.zeros((len(x)+1, len(y)+1), dtype=int)\n",
    "    D[0,:] = map((lambda x: x*8), range(0, len(y)+1))\n",
    "    D[:,0] = map((lambda x: x*8), range(0, len(x)+1))\n",
    "    for i in range(1, len(x)+1):\n",
    "        for j in range(1, len(y)+1):\n",
    "            delta = score_global_allignment(x, y)\n",
    "            D[i, j] = min((D[i-1, j-1] + score_global_allignment(x[i-1], y[j-1])), \n",
    "                          (D[i, j-1] + score_global_allignment(x[i-1], '-')), \n",
    "                          (D[i-1,j] + score_global_allignment('-', y[j-1])))\n",
    "    return D"
   ]
  },
  {
   "cell_type": "code",
   "execution_count": 6,
   "metadata": {
    "collapsed": true
   },
   "outputs": [],
   "source": [
    "y = 'TATGTCATGC'\n",
    "x = 'TACGTCAGC'\n",
    "D = matrix_global_allignment(x, y)"
   ]
  },
  {
   "cell_type": "code",
   "execution_count": 7,
   "metadata": {
    "collapsed": false
   },
   "outputs": [
    {
     "data": {
      "text/plain": [
       "array([[ 0,  8, 16, 24, 32, 40, 48, 56, 64, 72, 80],\n",
       "       [ 8,  0,  8, 16, 24, 32, 40, 48, 56, 64, 72],\n",
       "       [16,  8,  0,  8, 16, 24, 32, 40, 48, 56, 64],\n",
       "       [24, 16,  8,  2, 10, 18, 24, 32, 40, 48, 56],\n",
       "       [32, 24, 16, 10,  2, 10, 18, 26, 34, 40, 48],\n",
       "       [40, 32, 24, 16, 10,  2, 10, 18, 26, 34, 42],\n",
       "       [48, 40, 32, 24, 18, 10,  2, 10, 18, 26, 34],\n",
       "       [56, 48, 40, 32, 26, 18, 10,  2, 10, 18, 26],\n",
       "       [64, 56, 48, 40, 32, 26, 18, 10,  6, 10, 18],\n",
       "       [72, 64, 56, 48, 40, 34, 26, 18, 12, 10, 10]])"
      ]
     },
     "execution_count": 7,
     "metadata": {},
     "output_type": "execute_result"
    }
   ],
   "source": [
    "D"
   ]
  },
  {
   "cell_type": "code",
   "execution_count": 10,
   "metadata": {
    "collapsed": false
   },
   "outputs": [
    {
     "name": "stdout",
     "output_type": "stream",
     "text": [
      "10 11\n"
     ]
    }
   ],
   "source": [
    "lim_x, lim_y = D.shape\n",
    "print lim_x, lim_y"
   ]
  },
  {
   "cell_type": "code",
   "execution_count": 22,
   "metadata": {
    "collapsed": false
   },
   "outputs": [],
   "source": [
    "def back_trace_global_allignment(x, y, D):\n",
    "    allign_x = []\n",
    "    allign_y = []\n",
    "    i = len(x)\n",
    "    j = len(y)\n",
    "    while i>0 and j>0:\n",
    "        diagonal = D[i-1, j-1]\n",
    "        vertical = D[i-1, j]\n",
    "        horizontal = D[i, j-1]\n",
    "        min_ = min(diagonal, vertical, horizontal)\n",
    "        if min_ == diagonal:\n",
    "            allign_x.append(x[i-1])\n",
    "            allign_y.append(y[i-1])\n",
    "        elif min_ == vertical:\n",
    "            allign_x.append(x[i-1])\n",
    "            allign_y.append('-')\n",
    "        else:\n",
    "            allign_x.append('-')\n",
    "            allign_y.append(y[i-1])\n",
    "        i -= 1\n",
    "        j -= 1\n",
    "    return ''.join(allign_x)[::-1], ''.join(allign_y)[::-1]"
   ]
  },
  {
   "cell_type": "code",
   "execution_count": 23,
   "metadata": {
    "collapsed": false
   },
   "outputs": [],
   "source": [
    "allign_x, allign_y = back_trace_global_allignment(x, y, D)"
   ]
  },
  {
   "cell_type": "code",
   "execution_count": null,
   "metadata": {
    "collapsed": true
   },
   "outputs": [],
   "source": []
  }
 ],
 "metadata": {
  "kernelspec": {
   "display_name": "Python 2",
   "language": "python",
   "name": "python2"
  },
  "language_info": {
   "codemirror_mode": {
    "name": "ipython",
    "version": 2
   },
   "file_extension": ".py",
   "mimetype": "text/x-python",
   "name": "python",
   "nbconvert_exporter": "python",
   "pygments_lexer": "ipython2",
   "version": "2.7.13"
  }
 },
 "nbformat": 4,
 "nbformat_minor": 2
}
