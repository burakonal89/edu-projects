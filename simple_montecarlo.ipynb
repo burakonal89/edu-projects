{
 "cells": [
  {
   "cell_type": "code",
   "execution_count": 72,
   "metadata": {
    "collapsed": true
   },
   "outputs": [],
   "source": [
    "import random\n",
    "import numpy as np\n",
    "import matplotlib.pyplot as plt\n",
    "%matplotlib inline\n",
    "import time"
   ]
  },
  {
   "cell_type": "code",
   "execution_count": 14,
   "metadata": {
    "collapsed": true
   },
   "outputs": [],
   "source": [
    "def die_roll():    \n",
    "    results = set()\n",
    "    iter_ = 0\n",
    "    np.random.choice(range(1,7))\n",
    "    while len(results) < 6:\n",
    "        results.add(np.random.choice(range(1,7)))\n",
    "        iter_ += 1\n",
    "    return iter_"
   ]
  },
  {
   "cell_type": "code",
   "execution_count": 89,
   "metadata": {
    "collapsed": true
   },
   "outputs": [],
   "source": [
    "def paint_balls(ball_vector=np.arange(1000), n_draw=10):\n",
    "    state = np.zeros(len(ball_vector), dtype=int)\n",
    "    n_iter = 0\n",
    "    while state.sum() < len(ball_vector):\n",
    "        indices = np.random.choice(ball_vector, n_draw, replace=False)\n",
    "        state[indices] = 1\n",
    "        n_iter += 1\n",
    "    return n_iter"
   ]
  },
  {
   "cell_type": "code",
   "execution_count": 90,
   "metadata": {
    "scrolled": true
   },
   "outputs": [
    {
     "name": "stdout",
     "output_type": "stream",
     "text": [
      "CPU times: user 29.3 s, sys: 95.6 ms, total: 29.4 s\n",
      "Wall time: 29.4 s\n"
     ]
    },
    {
     "data": {
      "image/png": "[encoded data removed]",
      "text/plain": [
       "<matplotlib.figure.Figure at 0x11aa51d90>"
      ]
     },
     "metadata": {},
     "output_type": "display_data"
    }
   ],
   "source": [
    "%%time\n",
    "n = 1000\n",
    "m = 1\n",
    "x = np.arange(1, n+1, dtype=float)\n",
    "# y_true = np.ones(n)*14.7\n",
    "# plt.plot(x, y_true, 'b-', linewidth=0.5)\n",
    "time_arr = np.zeros(n*m)\n",
    "for j in range(m):\n",
    "    results = np.zeros(n, dtype=int)\n",
    "    for i in range(n):\n",
    "        start = time.time()\n",
    "        results[i] = paint_balls()\n",
    "        end = time.time()\n",
    "        time_arr[i] = end-start\n",
    "    y = results.cumsum()/x\n",
    "    plt.plot(x, y, 'r-', alpha=0.1, linewidth=0.5)"
   ]
  },
  {
   "cell_type": "code",
   "execution_count": 91,
   "metadata": {},
   "outputs": [
    {
     "data": {
      "text/plain": [
       "749.60799999999995"
      ]
     },
     "execution_count": 91,
     "metadata": {},
     "output_type": "execute_result"
    }
   ],
   "source": [
    "results.mean()"
   ]
  },
  {
   "cell_type": "code",
   "execution_count": 68,
   "metadata": {},
   "outputs": [
    {
     "data": {
      "text/plain": [
       "747.63599999999997"
      ]
     },
     "execution_count": 68,
     "metadata": {},
     "output_type": "execute_result"
    }
   ],
   "source": [
    "results.mean()"
   ]
  },
  {
   "cell_type": "code",
   "execution_count": 51,
   "metadata": {
    "scrolled": true
   },
   "outputs": [
    {
     "data": {
      "image/png": "[encoded data removed]",
      "text/plain": [
       "<matplotlib.figure.Figure at 0x11aa3fa10>"
      ]
     },
     "metadata": {},
     "output_type": "display_data"
    }
   ],
   "source": [
    "n = 1000\n",
    "x = np.arange(1, n+1, dtype=float)\n",
    "y_true = np.ones(n)*14.7\n",
    "plt.plot(x, y_true, 'b-', linewidth=0.5)\n",
    "\n",
    "for j in range(100):\n",
    "    results = np.zeros(n, dtype=int)\n",
    "    for i in range(n):\n",
    "        results[i] = die_roll()\n",
    "    y = results.cumsum()/x\n",
    "    plt.plot(x, y, 'r-', alpha=0.1, linewidth=0.5)\n",
    "\n",
    "# plt.show()"
   ]
  },
  {
   "cell_type": "code",
   "execution_count": null,
   "metadata": {
    "collapsed": true
   },
   "outputs": [],
   "source": []
  }
 ],
 "metadata": {
  "kernelspec": {
   "display_name": "Python 2",
   "language": "python",
   "name": "python2"
  },
  "language_info": {
   "codemirror_mode": {
    "name": "ipython",
    "version": 2
   },
   "file_extension": ".py",
   "mimetype": "text/x-python",
   "name": "python",
   "nbconvert_exporter": "python",
   "pygments_lexer": "ipython2",
   "version": "2.7.13"
  }
 },
 "nbformat": 4,
 "nbformat_minor": 2
}
